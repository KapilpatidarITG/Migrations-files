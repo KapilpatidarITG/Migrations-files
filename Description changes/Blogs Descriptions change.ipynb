{
 "cells": [
  {
   "cell_type": "code",
   "execution_count": 1,
   "id": "1fc2ab37-1515-479d-8acd-c1b9868fbf65",
   "metadata": {},
   "outputs": [
    {
     "name": "stdout",
     "output_type": "stream",
     "text": [
      "✅ Done. Updated file saved as output.csv\n"
     ]
    }
   ],
   "source": [
    "import pandas as pd\n",
    "import re\n",
    "\n",
    "# --- SETTINGS ---\n",
    "infile  = \"input.csv\"\n",
    "outfile = \"output.csv\"\n",
    "\n",
    "# Read as text to avoid NaNs and type-casting issues\n",
    "df = pd.read_csv(infile, encoding=\"latin1\", dtype=str, keep_default_na=False)\n",
    "\n",
    "# Base and regex to find ONLY the uploads URLs\n",
    "base_literal = \"http://www.shinodadesigncenter.net/wordpress/wp-content/uploads\"\n",
    "base_regex   = r\"http://www\\.shinodadesigncenter\\.net/wordpress/wp-content/uploads\"\n",
    "\n",
    "# Match: (base)/rest  -> we will turn it into (base)_{rest with slashes -> underscores}\n",
    "pattern = re.compile(rf\"({base_regex})/([^\\s\\\"'<>)\\]]+)\")\n",
    "\n",
    "def _repl(m):\n",
    "    base = m.group(1)               # the uploads base (without trailing slash)\n",
    "    rest = m.group(2).replace(\"/\", \"_\")  # replace only in the tail\n",
    "    return f\"{base}_{rest}\"\n",
    "\n",
    "def fix_text(val: str):\n",
    "    if isinstance(val, str) and val:\n",
    "        # idempotent: won't touch already-converted URLs because they have '_' not '/'\n",
    "        return pattern.sub(_repl, val)\n",
    "    return val\n",
    "\n",
    "# Apply to ALL text columns (works for descriptions, titles, etc.)\n",
    "for col in df.columns:\n",
    "    df[col] = df[col].apply(fix_text)\n",
    "\n",
    "# Save back\n",
    "df.to_csv(outfile, index=False, encoding=\"utf-8\")\n",
    "print(\"✅ Done. Updated file saved as\", outfile)\n"
   ]
  },
  {
   "cell_type": "code",
   "execution_count": 7,
   "id": "644e2591-a511-4c3f-86b7-a7e0cd1a5c69",
   "metadata": {},
   "outputs": [
    {
     "name": "stdout",
     "output_type": "stream",
     "text": [
      "✅ Done. Updated file with 'Handle' column saved as output.csv\n"
     ]
    }
   ],
   "source": [
    "import pandas as pd\n",
    "import re\n",
    "\n",
    "# --- SETTINGS ---\n",
    "infile  = \"input.csv\"\n",
    "outfile = \"output.csv\"\n",
    "\n",
    "# Read CSV as text\n",
    "df = pd.read_csv(infile, encoding=\"latin1\", dtype=str, keep_default_na=False)\n",
    "\n",
    "# Base regex for URL replacement\n",
    "base_regex = r\"http://www\\.shinodadesigncenter\\.net/wordpress/wp-content/uploads\"\n",
    "pattern = re.compile(rf\"({base_regex})/([^\\s\\\"'<>)\\]]+)\")\n",
    "\n",
    "def _repl(m):\n",
    "    base = m.group(1)\n",
    "    rest = m.group(2).replace(\"/\", \"_\")\n",
    "    return f\"{base}_{rest}\"\n",
    "\n",
    "def fix_text(val: str):\n",
    "    if isinstance(val, str) and val:\n",
    "        return pattern.sub(_repl, val)\n",
    "    return val\n",
    "\n",
    "# Apply fix only on text columns\n",
    "for col in df.columns:\n",
    "    df[col] = df[col].apply(fix_text)\n",
    "\n",
    "# --- ADD HANDLE COLUMN ---\n",
    "# Example: Auto-generate handle from first column (say \"Title\") if it exists\n",
    "if \"Title\" in df.columns:\n",
    "    df[\"Handle\"] = df[\"Title\"].str.lower().str.replace(r\"[^a-z0-9]+\", \"-\", regex=True).str.strip(\"-\")\n",
    "else:\n",
    "    # If no title, just use row numbers\n",
    "    df[\"Handle\"] = [\"product-\" + str(i+1) for i in range(len(df))]\n",
    "\n",
    "# Save updated file\n",
    "df.to_csv(outfile, index=False, encoding=\"utf-8\")\n",
    "print(\"✅ Done. Updated file with 'Handle' column saved as\", outfile)\n"
   ]
  },
  {
   "cell_type": "code",
   "execution_count": null,
   "id": "e6e49dde-474b-4a1e-8ce8-efbe8acb3586",
   "metadata": {},
   "outputs": [],
   "source": []
  }
 ],
 "metadata": {
  "kernelspec": {
   "display_name": "Python 3 (ipykernel)",
   "language": "python",
   "name": "python3"
  },
  "language_info": {
   "codemirror_mode": {
    "name": "ipython",
    "version": 3
   },
   "file_extension": ".py",
   "mimetype": "text/x-python",
   "name": "python",
   "nbconvert_exporter": "python",
   "pygments_lexer": "ipython3",
   "version": "3.13.7"
  }
 },
 "nbformat": 4,
 "nbformat_minor": 5
}
