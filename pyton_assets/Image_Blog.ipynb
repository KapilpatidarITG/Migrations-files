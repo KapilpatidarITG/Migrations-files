{
 "cells": [
  {
   "cell_type": "code",
   "execution_count": 3,
   "id": "39e16e41-2643-4e64-a9ff-d3d8ec6670cf",
   "metadata": {},
   "outputs": [
    {
     "name": "stdout",
     "output_type": "stream",
     "text": [
      "✅ src + alt dono nikal ke output_with_src_alt.xlsx me save ho gaya\n"
     ]
    }
   ],
   "source": [
    "import pandas as pd\n",
    "from bs4 import BeautifulSoup\n",
    "\n",
    "# 1. Excel read\n",
    "df = pd.read_excel(\"Blog_image_data.xlsx\")\n",
    "\n",
    "# 2. new columns\n",
    "df[\"image_src_list\"] = \"\"\n",
    "df[\"image_alt_list\"] = \"\"\n",
    "\n",
    "# 3. loop\n",
    "for i, desc in enumerate(df[\"description\"]):\n",
    "    if pd.notna(desc):\n",
    "        soup = BeautifulSoup(desc, \"html.parser\")\n",
    "        imgs = soup.find_all(\"img\")\n",
    "\n",
    "        src_list = []\n",
    "        alt_list = []\n",
    "\n",
    "        for img in imgs:\n",
    "            src_list.append(img.get(\"src\", \"\"))\n",
    "            alt_list.append(img.get(\"alt\", \"\"))\n",
    "\n",
    "        # list ko comma join karke store kar rahe\n",
    "        df.at[i, \"image_src_list\"] = \", \".join(src_list)\n",
    "        df.at[i, \"image_alt_list\"] = \", \".join(alt_list)\n",
    "\n",
    "# 4. save\n",
    "df.to_excel(\"output_with_src_alt.xlsx\", index=False)\n",
    "\n",
    "print(\"✅ src + alt dono nikal ke output_with_src_alt.xlsx me save ho gaya\")\n"
   ]
  },
  {
   "cell_type": "code",
   "execution_count": null,
   "id": "c477da20-bca2-4fba-9616-924901d479ef",
   "metadata": {},
   "outputs": [],
   "source": []
  }
 ],
 "metadata": {
  "kernelspec": {
   "display_name": "Python 3 (ipykernel)",
   "language": "python",
   "name": "python3"
  },
  "language_info": {
   "codemirror_mode": {
    "name": "ipython",
    "version": 3
   },
   "file_extension": ".py",
   "mimetype": "text/x-python",
   "name": "python",
   "nbconvert_exporter": "python",
   "pygments_lexer": "ipython3",
   "version": "3.13.2"
  }
 },
 "nbformat": 4,
 "nbformat_minor": 5
}
