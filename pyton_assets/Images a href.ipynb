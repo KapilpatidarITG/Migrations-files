{
 "cells": [
  {
   "cell_type": "code",
   "execution_count": 1,
   "id": "d41c7bc5-2cda-4ffa-9c95-fe523f3b56c2",
   "metadata": {},
   "outputs": [
    {
     "name": "stdout",
     "output_type": "stream",
     "text": [
      "✅ src + alt + href dono nikal ke output_with_src_alt_href.xlsx me save ho gaya\n"
     ]
    }
   ],
   "source": [
    "import pandas as pd\n",
    "from bs4 import BeautifulSoup\n",
    "\n",
    "# 1. Excel read\n",
    "df = pd.read_excel(\"Blog_image_data.xlsx\")\n",
    "\n",
    "# 2. new columns\n",
    "df[\"image_src_list\"] = \"\"\n",
    "df[\"image_alt_list\"] = \"\"\n",
    "df[\"image_href_list\"] = \"\"   # new column for <a href>\n",
    "\n",
    "# 3. loop\n",
    "for i, desc in enumerate(df[\"description\"]):\n",
    "    if pd.notna(desc):\n",
    "        soup = BeautifulSoup(desc, \"html.parser\")\n",
    "        imgs = soup.find_all(\"img\")\n",
    "\n",
    "        src_list = []\n",
    "        alt_list = []\n",
    "        href_list = []\n",
    "\n",
    "        for img in imgs:\n",
    "            # image src\n",
    "            src_list.append(img.get(\"src\", \"\"))\n",
    "\n",
    "            # image alt\n",
    "            alt_list.append(img.get(\"alt\", \"\"))\n",
    "\n",
    "            # agar <img> ek <a> ke andar h, to uska href nikalo\n",
    "            if img.parent.name == \"a\":\n",
    "                href_list.append(img.parent.get(\"href\", \"\"))\n",
    "            else:\n",
    "                href_list.append(\"\")  # agar <a> nahi h\n",
    "\n",
    "        # list ko comma join karke store kar rahe\n",
    "        df.at[i, \"image_src_list\"] = \", \".join(src_list)\n",
    "        df.at[i, \"image_alt_list\"] = \", \".join(alt_list)\n",
    "        df.at[i, \"image_href_list\"] = \", \".join(href_list)\n",
    "\n",
    "# 4. save\n",
    "df.to_excel(\"output_with_a_href.xlsx\", index=False)\n",
    "\n",
    "print(\"✅ src + alt + href dono nikal ke output_with_src_alt_href.xlsx me save ho gaya\")\n"
   ]
  },
  {
   "cell_type": "code",
   "execution_count": null,
   "id": "ed7ea457-1f47-42db-86fa-e9324e54df6c",
   "metadata": {},
   "outputs": [],
   "source": []
  }
 ],
 "metadata": {
  "kernelspec": {
   "display_name": "Python 3 (ipykernel)",
   "language": "python",
   "name": "python3"
  },
  "language_info": {
   "codemirror_mode": {
    "name": "ipython",
    "version": 3
   },
   "file_extension": ".py",
   "mimetype": "text/x-python",
   "name": "python",
   "nbconvert_exporter": "python",
   "pygments_lexer": "ipython3",
   "version": "3.13.2"
  }
 },
 "nbformat": 4,
 "nbformat_minor": 5
}
