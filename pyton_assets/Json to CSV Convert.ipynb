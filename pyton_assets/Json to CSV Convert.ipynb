{
 "cells": [
  {
   "cell_type": "code",
   "execution_count": 1,
   "id": "3b8a8c42-ccd4-4ad9-8b98-9965a957d800",
   "metadata": {},
   "outputs": [
    {
     "name": "stdout",
     "output_type": "stream",
     "text": [
      "✅ JSON successfully converted into output.csv\n"
     ]
    }
   ],
   "source": [
    "import pandas as pd\n",
    "import json\n",
    "\n",
    "# JSON file load karo\n",
    "with open(\"new 5.json\", \"r\", encoding=\"utf-8\") as f:\n",
    "    data = json.load(f)\n",
    "\n",
    "# Agar JSON ke andar \"items\" list hai\n",
    "if \"items\" in data:\n",
    "    df = pd.json_normalize(data[\"items\"])  # Flatten JSON inside 'items'\n",
    "else:\n",
    "    df = pd.json_normalize(data)  # Flatten entire JSON\n",
    "\n",
    "# CSV me save karo\n",
    "df.to_csv(\"output.csv\", index=False, encoding=\"utf-8\")\n",
    "\n",
    "print(\"✅ JSON successfully converted into output.csv\")\n"
   ]
  },
  {
   "cell_type": "code",
   "execution_count": null,
   "id": "0b63db27-43ac-4f25-8b49-d6965e7cec5e",
   "metadata": {},
   "outputs": [],
   "source": []
  }
 ],
 "metadata": {
  "kernelspec": {
   "display_name": "Python 3 (ipykernel)",
   "language": "python",
   "name": "python3"
  },
  "language_info": {
   "codemirror_mode": {
    "name": "ipython",
    "version": 3
   },
   "file_extension": ".py",
   "mimetype": "text/x-python",
   "name": "python",
   "nbconvert_exporter": "python",
   "pygments_lexer": "ipython3",
   "version": "3.13.7"
  }
 },
 "nbformat": 4,
 "nbformat_minor": 5
}
