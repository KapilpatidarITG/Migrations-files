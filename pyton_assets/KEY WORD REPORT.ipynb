{
 "cells": [
  {
   "cell_type": "code",
   "execution_count": 2,
   "id": "93068c5e-85ee-4c99-bcce-4857d2bfc2fe",
   "metadata": {},
   "outputs": [
    {
     "name": "stdout",
     "output_type": "stream",
     "text": [
      "SEO metadata extracted and saved to 'seo_metadata_results.csv'.\n"
     ]
    }
   ],
   "source": [
    "import pandas as pd\n",
    "import requests\n",
    "from bs4 import BeautifulSoup\n",
    "\n",
    "def extract_meta_tags(url):\n",
    "    \"\"\"Extracts meta title, description, and keywords from a given URL.\"\"\"\n",
    "    try:\n",
    "        response = requests.get(url, timeout=10)\n",
    "        soup = BeautifulSoup(response.text, 'html.parser')\n",
    "\n",
    "        title = soup.find('title').text.strip() if soup.find('title') else \"N/A\"\n",
    "        description = soup.find('meta', attrs={'name': 'description'})\n",
    "        description = description['content'].strip() if description else \"N/A\"\n",
    "\n",
    "        keywords = soup.find('meta', attrs={'name': 'keywords'})\n",
    "        keywords = keywords['content'].strip() if keywords else \"N/A\"\n",
    "\n",
    "        return title, description, keywords\n",
    "    except Exception as e:\n",
    "        print(f\"Error extracting meta tags for {url}: {e}\")\n",
    "        return \"Error\", \"Error\", \"Error\"\n",
    "\n",
    "# **Step 1: Upload a CSV file containing URLs**\n",
    "file_path = \"Book21.csv\"  # Replace with your file path\n",
    "\n",
    "# **Step 2: Read CSV file**\n",
    "df = pd.read_csv(file_path)\n",
    "\n",
    "# Ensure the CSV has a column named 'URL'\n",
    "if 'URL' not in df.columns:\n",
    "    raise ValueError(\"CSV file must contain a column named 'URL'.\")\n",
    "\n",
    "# **Step 3: Extract meta tags for each URL**\n",
    "titles = []\n",
    "descriptions = []\n",
    "keywords_list = []\n",
    "\n",
    "for url in df['URL']:\n",
    "    title, description, keywords = extract_meta_tags(url)\n",
    "    titles.append(title)\n",
    "    descriptions.append(description)\n",
    "    keywords_list.append(keywords)\n",
    "\n",
    "# **Step 4: Store extracted data in DataFrame**\n",
    "df['Title'] = titles\n",
    "df['Description'] = descriptions\n",
    "df['Keywords'] = keywords_list\n",
    "\n",
    "# **Step 5: Export results to a new CSV file**\n",
    "output_file = \"seo_metadata_results.csv\"\n",
    "df.to_csv(output_file, index=False)\n",
    "\n",
    "print(f\"SEO metadata extracted and saved to '{output_file}'.\")\n"
   ]
  },
  {
   "cell_type": "code",
   "execution_count": null,
   "id": "a678a50b-b1af-49b5-af9c-8dd69c063b90",
   "metadata": {},
   "outputs": [],
   "source": [
    "\n"
   ]
  },
  {
   "cell_type": "code",
   "execution_count": null,
   "id": "d946ada4-c13b-40f6-a995-89d0560152e0",
   "metadata": {},
   "outputs": [],
   "source": []
  },
  {
   "cell_type": "code",
   "execution_count": null,
   "id": "3ce4612c-cf14-4df6-a26c-6f34855d41f2",
   "metadata": {},
   "outputs": [],
   "source": []
  },
  {
   "cell_type": "code",
   "execution_count": null,
   "id": "58686fc0-f62b-41fc-8874-14e5537ea90d",
   "metadata": {},
   "outputs": [],
   "source": []
  }
 ],
 "metadata": {
  "kernelspec": {
   "display_name": "Python 3 (ipykernel)",
   "language": "python",
   "name": "python3"
  },
  "language_info": {
   "codemirror_mode": {
    "name": "ipython",
    "version": 3
   },
   "file_extension": ".py",
   "mimetype": "text/x-python",
   "name": "python",
   "nbconvert_exporter": "python",
   "pygments_lexer": "ipython3",
   "version": "3.13.3"
  }
 },
 "nbformat": 4,
 "nbformat_minor": 5
}
