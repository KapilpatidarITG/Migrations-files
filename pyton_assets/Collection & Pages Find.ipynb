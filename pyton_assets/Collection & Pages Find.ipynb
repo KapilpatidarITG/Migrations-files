{
 "cells": [
  {
   "cell_type": "code",
   "execution_count": null,
   "id": "a43cddf4-a7c0-4179-81dd-de2487882c61",
   "metadata": {},
   "outputs": [
    {
     "name": "stdout",
     "output_type": "stream",
     "text": [
      "❌ filter-bar NOT found in https://www.sewingmachinesplus.com/index.php\n",
      "❌ filter-bar NOT found in https://www.sewingmachinesplus.com/sewing-machines.php\n",
      "❌ filter-bar NOT found in https://www.sewingmachinesplus.com/vacuum-cleaners.php\n",
      "✅ filter-bar found in https://www.sewingmachinesplus.com/sewing-accessories.php\n",
      "❌ filter-bar NOT found in https://www.sewingmachinesplus.com/sewing-furniture.php\n",
      "❌ filter-bar NOT found in https://www.sewingmachinesplus.com/vacuum-accessories.php\n",
      "❌ filter-bar NOT found in https://www.sewingmachinesplus.com/thread.php\n",
      "✅ filter-bar found in https://www.sewingmachinesplus.com/embroidery-supplies.php\n",
      "✅ filter-bar found in https://www.sewingmachinesplus.com/discount-sewing-machines.php\n",
      "❌ filter-bar NOT found in https://www.sewingmachinesplus.com/about-us.php\n",
      "❌ filter-bar NOT found in https://www.sewingmachinesplus.com/contact-us.php\n",
      "❌ filter-bar NOT found in https://www.sewingmachinesplus.com/customer-service.php\n",
      "❌ filter-bar NOT found in https://www.sewingmachinesplus.com/track-your-package.php\n",
      "❌ filter-bar NOT found in https://www.sewingmachinesplus.com/call-us.php\n",
      "✅ filter-bar found in https://www.sewingmachinesplus.com/embroidery-software.php\n",
      "❌ filter-bar NOT found in https://www.sewingmachinesplus.com/embroidery-designs.php\n",
      "❌ filter-bar NOT found in https://www.sewingmachinesplus.com/embroidery-categories.php\n",
      "❌ filter-bar NOT found in https://www.sewingmachinesplus.com/embroidery-hoops.php\n",
      "✅ filter-bar found in https://www.sewingmachinesplus.com/embroidery-stabilizers.php\n",
      "❌ filter-bar NOT found in https://www.sewingmachinesplus.com/sewing-categories.php\n",
      "❌ filter-bar NOT found in https://www.sewingmachinesplus.com/privacy-policy.php\n",
      "❌ filter-bar NOT found in https://www.sewingmachinesplus.com/sewing-bobbins.php\n",
      "❌ filter-bar NOT found in https://www.sewingmachinesplus.com/sewing-feet.php\n",
      "✅ filter-bar found in https://www.sewingmachinesplus.com/sewing-scissors.php\n",
      "❌ filter-bar NOT found in https://www.sewingmachinesplus.com/furniture-category.php\n",
      "✅ filter-bar found in https://www.sewingmachinesplus.com/quilting-frames.php\n",
      "✅ filter-bar found in https://www.sewingmachinesplus.com/sewing-cabinets.php\n",
      "✅ filter-bar found in https://www.sewingmachinesplus.com/cutting-tables.php\n",
      "✅ filter-bar found in https://www.sewingmachinesplus.com/sewing-chairs.php\n",
      "✅ filter-bar found in https://www.sewingmachinesplus.com/sewing-pneumatic-lifts.php\n"
     ]
    }
   ],
   "source": [
    "import pandas as pd\n",
    "import requests\n",
    "from bs4 import BeautifulSoup\n",
    "\n",
    "# Read CSV\n",
    "df = pd.read_excel(\"Find pages & Collections.xlsx\")\n",
    "urls = df[\"URL\"].tolist()\n",
    "\n",
    "for url in urls:\n",
    "    try:\n",
    "        response = requests.get(url, timeout=10)\n",
    "        soup = BeautifulSoup(response.text, \"html.parser\")\n",
    "\n",
    "        if soup.find(id=\"filter-bar\"):\n",
    "            print(f\"✅ filter-bar found in {url}\")\n",
    "        else:\n",
    "            print(f\"❌ filter-bar NOT found in {url}\")\n",
    "    except Exception as e:\n",
    "        print(f\"⚠️ Error fetching {url}: {e}\")\n"
   ]
  },
  {
   "cell_type": "code",
   "execution_count": null,
   "id": "d3b6fd8d-d5e1-4a98-8f67-6c3d3eb62efc",
   "metadata": {},
   "outputs": [],
   "source": []
  },
  {
   "cell_type": "code",
   "execution_count": null,
   "id": "a956dfef-f057-4f00-ab54-46fdc1199fa9",
   "metadata": {},
   "outputs": [],
   "source": []
  }
 ],
 "metadata": {
  "kernelspec": {
   "display_name": "Python 3 (ipykernel)",
   "language": "python",
   "name": "python3"
  },
  "language_info": {
   "codemirror_mode": {
    "name": "ipython",
    "version": 3
   },
   "file_extension": ".py",
   "mimetype": "text/x-python",
   "name": "python",
   "nbconvert_exporter": "python",
   "pygments_lexer": "ipython3",
   "version": "3.13.7"
  }
 },
 "nbformat": 4,
 "nbformat_minor": 5
}
